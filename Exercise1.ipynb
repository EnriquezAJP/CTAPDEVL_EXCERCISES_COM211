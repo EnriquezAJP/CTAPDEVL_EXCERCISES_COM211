{
  "cells": [
    {
      "cell_type": "markdown",
      "metadata": {
        "id": "view-in-github",
        "colab_type": "text"
      },
      "source": [
        "<a href=\"https://colab.research.google.com/github/EnriquezAJP/CTAPDEVL_EXCERCISES_COM211/blob/main/Exercise1.ipynb\" target=\"_parent\"><img src=\"https://colab.research.google.com/assets/colab-badge.svg\" alt=\"Open In Colab\"/></a>"
      ]
    },
    {
      "cell_type": "markdown",
      "metadata": {
        "id": "tOoyQ70H00_s"
      },
      "source": [
        "\n",
        "\n",
        "```\n",
        "# This is formatted as code\n",
        "```\n",
        "\n",
        "## Exercise 1\n",
        "In the course you learned how to do classification using Fashion MNIST, a data set containing items of clothing. There's another, similar dataset called MNIST which has items of handwriting -- the digits 0 through 9.\n",
        "\n",
        "Write an MNIST classifier that trains to 99% accuracy or above, and does it without a fixed number of epochs -- i.e. you should stop training once you reach that level of accuracy.\n",
        "\n",
        "Some notes:\n",
        "1. It should succeed in less than 10 epochs, so it is okay to change epochs to 10, but nothing larger\n",
        "2. When it reaches 99% or greater it should print out the string \"Reached 99% accuracy so cancelling training!\"\n",
        "3. If you add any additional variables, make sure you use the same names as the ones used in the class\n",
        "\n",
        "I've started the code for you below -- how would you finish it?"
      ]
    },
    {
      "cell_type": "code",
      "execution_count": 15,
      "metadata": {
        "id": "9rvXQGAA0ssC"
      },
      "outputs": [],
      "source": [
        "# YOUR CODE SHOULD START HERE\n",
        "# YOUR CODE SHOULD END HERE\n",
        "import tensorflow as tf\n",
        "mnist = tf.keras.datasets.mnist"
      ]
    },
    {
      "cell_type": "code",
      "execution_count": 16,
      "metadata": {
        "id": "T8Hou2IYBeYD"
      },
      "outputs": [],
      "source": [
        "(x_train, y_train),(x_test, y_test) = mnist.load_data()\n",
        "# YOUR CODE SHOULD START HERE\n",
        "x_train = x_train / 255.0\n",
        "x_test = x_test / 255.0\n",
        "fl = tf.keras.layers.Flatten()                       #this flattens the shape of it\n",
        "l0 = tf.keras.layers.Dense(units = 128, activation = tf.nn.relu)        #make something to identify pixels\n",
        "l1 = tf.keras.layers.Dense(units = 10 , activation = tf.nn.softmax)     #make something to identify number\n",
        "# YOUR CODE SHOULD END HERE"
      ]
    },
    {
      "cell_type": "code",
      "execution_count": 19,
      "metadata": {
        "id": "emRcp1_FBbFc"
      },
      "outputs": [],
      "source": [
        "model = tf.keras.models.Sequential([\n",
        "# YOUR CODE SHOULD START HERE\n",
        "  fl, l0, l1\n",
        "# YOUR CODE SHOULD END HERE\n",
        "])"
      ]
    },
    {
      "cell_type": "code",
      "execution_count": 20,
      "metadata": {
        "colab": {
          "base_uri": "https://localhost:8080/"
        },
        "id": "4nZ9QYNZBcbQ",
        "outputId": "2059d0fa-3bd5-4eab-af9b-5397f77a6d99"
      },
      "outputs": [
        {
          "output_type": "stream",
          "name": "stdout",
          "text": [
            "Epoch 1/10\n",
            "1875/1875 [==============================] - 7s 4ms/step - loss: 0.0321 - accuracy: 0.9900\n",
            "Epoch 2/10\n",
            "1875/1875 [==============================] - 5s 3ms/step - loss: 0.0238 - accuracy: 0.9928\n",
            "Epoch 3/10\n",
            "1875/1875 [==============================] - 7s 4ms/step - loss: 0.0184 - accuracy: 0.9945\n",
            "Epoch 4/10\n",
            "1875/1875 [==============================] - 6s 3ms/step - loss: 0.0160 - accuracy: 0.9952\n"
          ]
        },
        {
          "output_type": "execute_result",
          "data": {
            "text/plain": [
              "4"
            ]
          },
          "metadata": {},
          "execution_count": 20
        }
      ],
      "source": [
        "model.compile(optimizer='adam',\n",
        "              loss='sparse_categorical_crossentropy',\n",
        "              metrics=['accuracy'])\n",
        "# YOUR CODE SHOULD START HERE\n",
        "callback = tf.keras.callbacks.EarlyStopping(monitor='loss', min_delta=0.9, patience=3)\n",
        "history = model.fit(x_train, y_train, epochs = 10, callbacks=[callback], verbose=1)\n",
        "len(history.history['loss'])\n",
        "# YOUR CODE SHOULD END HERE"
      ]
    }
  ],
  "metadata": {
    "colab": {
      "provenance": [],
      "include_colab_link": true
    },
    "kernelspec": {
      "display_name": "Python 3",
      "name": "python3"
    }
  },
  "nbformat": 4,
  "nbformat_minor": 0
}